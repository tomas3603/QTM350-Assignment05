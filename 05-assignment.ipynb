{
 "cells": [
  {
   "cell_type": "markdown",
   "metadata": {},
   "source": [
    "## QTM 350: Data Science Computing\n",
    "\n",
    "### Assignment 05 - Literate Programming with Quarto \n",
    "\n",
    "### Due Date: 11:59 PM on Wednesday, October 09, 2024"
   ]
  },
  {
   "cell_type": "markdown",
   "metadata": {},
   "source": [
    "### Instructions\n",
    "\n",
    "In this assignment, you will demonstrate your proficiency with Quarto by creating data science reports and presentations. You will analyse a sample of the [World Development Indicators dataset](https://databank.worldbank.org/source/world-development-indicators), focusing on one year (2022) and 14 variables. Your task involves performing data analysis, generating visualisations, and producing reproducible documents in multiple formats.\n",
    "\n",
    "Please write a `README.md` file that includes the URL of the repository you create, along with the URLs of the HTML report and slides published on GitHub Pages or GitHack (not the raw files in your repository). The resulting PDF should be stored in the repository, as should all the `.qmd` files.\n",
    "\n",
    "### Data\n",
    "\n",
    "The sample dataset is provided in the file `wdi.csv`. The dataset is available in [our GitHub repository](https://github.com/danilofreire/qtm350/tree/main/assignments/wdi.csv). You can also create the dataset by running the Python code below."
   ]
  },
  {
   "cell_type": "code",
   "execution_count": 5,
   "metadata": {},
   "outputs": [
    {
     "name": "stdout",
     "output_type": "stream",
     "text": [
      "['country', 'inflation_rate', 'exports_gdp_share', 'gdp_growth_rate', 'gdp_per_capita', 'adult_literacy_rate', 'primary_school_enrolment_rate', 'education_expenditure_gdp_share', 'measles_immunisation_rate', 'health_expenditure_gdp_share', 'income_inequality', 'unemployment_rate', 'life_expectancy', 'total_population']\n"
     ]
    }
   ],
   "source": [
    "# Install the necessary libraries\n",
    "# pip install pandas\n",
    "# pip install wbgapi\n",
    "\n",
    "# Import the libraries\n",
    "import pandas as pd\n",
    "wb = pd.read_csv(\"wdi.csv\")\n",
    "\n",
    "print(wb.columns.tolist())"
   ]
  },
  {
   "cell_type": "markdown",
   "metadata": {},
   "source": [
    "### Tasks\n",
    "\n",
    "1. Please initialise a new `.qmd` file with an appropriate `YAML` header. Include metadata such as `title`, `author`, `date`, and specify the output format as `HTML` and `PDF`.\n",
    "   \n",
    "2. Load the dataset using your preferred programming language (R or Python). \n",
    "   \n",
    "3. Conduct exploratory data analysis on at least three indicators of your choice. Summarise your findings in markdown sections. Show your code and results.\n",
    "   \n",
    "4. Create at least two different types of plots (e.g., bar chart, scatter plot) to represent your analysis. Use Quarto code chunks to embed these visualisations. Add a title and axis labels to each plot. Use Quarto to include a caption and a reference to the source of the data. Hide your code in the final document.\n",
    "   \n",
    "5. Construct a table that highlights some key statistics from your analysis. Ensure the table is well-formatted and included in the report.\n",
    "   \n",
    "6. Include cross-references to your figures and tables within the text. Demonstrate proper labeling and referencing techniques.\n",
    "   \n",
    "7. Add a bibliography using BibTeX (`.bib`). Cite at least two sources related to your analysis.\n",
    "   \n",
    "8.  Create a new `.qmd` file configured for `revealjs` output. Include a title slide, a few content slides, and a concluding slide. \n",
    "   \n",
    "9.  Incorporate your analysis and visualisations from the report into the presentation.\n",
    "    \n",
    "10. Customise the presentation theme and incorporate at least one transition effect between slides.\n",
    "    \n",
    "11. Render your report and presentation to HTML, PDF, and Revealjs (HTML) formats. \n",
    "    \n",
    "12. Use Git to manage your project and create a repository on GitHub. Submit the link to your repository on Canvas.\n",
    "    \n",
    "13. Set up GitHub Pages (preferably) or use GitHack to host your HTML report and presentation. Add the links of the published pages to your `README.md` file. Do not forget to include the PDF report and the `.qmd` files in your repository.\n",
    "\n",
    "### Bonus Questions\n",
    "\n",
    "14. Develop an interactive dashboard within your report using Quarto's dashboard features. Incorporate dynamic filters or widgets.\n",
    "    \n",
    "15. Configure automated rendering of your report using Quarto's command-line interface, possibly integrating with GitHub Actions for continuous integration."
   ]
  },
  {
   "cell_type": "code",
   "execution_count": null,
   "metadata": {},
   "outputs": [],
   "source": []
  }
 ],
 "metadata": {
  "kernelspec": {
   "display_name": "base",
   "language": "python",
   "name": "python3"
  },
  "language_info": {
   "codemirror_mode": {
    "name": "ipython",
    "version": 3
   },
   "file_extension": ".py",
   "mimetype": "text/x-python",
   "name": "python",
   "nbconvert_exporter": "python",
   "pygments_lexer": "ipython3",
   "version": "3.11.5"
  }
 },
 "nbformat": 4,
 "nbformat_minor": 2
}
